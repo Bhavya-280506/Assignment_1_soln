{
 "cells": [
  {
   "cell_type": "markdown",
   "metadata": {},
   "source": [
    "### Instrutions \n",
    "\n",
    "1. Replace **None** with your code. You can add multiple lines of code if needed.\n",
    "\n",
    "2. You can create additional variables if you need.\n",
    "\n",
    "3. ***DO NOT CHANGE THE NAME OF THE VARIABLES THAT ARE USED BELOW. EX- array_a, reshaped_array***\n",
    "\n",
    "4. For submission download this ipynb file and upload in your repository"
   ]
  },
  {
   "cell_type": "code",
   "execution_count": null,
   "metadata": {},
   "outputs": [],
   "source": [
    "# Import required libraries (numpy, pandas, matplotlib)\n",
    "import numpy as np\n",
    "import pandas as pd \n",
    "import matplotlib.pyplot as plt \n"
   ]
  },
  {
   "cell_type": "code",
   "execution_count": null,
   "metadata": {},
   "outputs": [],
   "source": [
    "# Task 1: Create a NumPy Array\n",
    "# Create a NumPy array `array_a` with 20 random integers between 1 and 100.\n",
    "# Expected output format: array_a should be a 1D array with 20 elements.\n",
    "rng = np.random.default_rng()\n",
    "array_a= rng.integers(1, 101, size=20)\n",
    "print(array_a)"
   ]
  },
  {
   "cell_type": "code",
   "execution_count": null,
   "metadata": {},
   "outputs": [],
   "source": [
    "# Task 2: Array Reshaping\n",
    "# Reshape `array_a` into a 2D array `reshaped_array` with shape (5, 4).\n",
    "# Expected output format: reshaped_array should be a 5x4 matrix.\n",
    "reshaped_array = array_a.reshape(5,4)\n",
    "print(reshaped_array)"
   ]
  },
  {
   "cell_type": "code",
   "execution_count": null,
   "metadata": {},
   "outputs": [],
   "source": [
    "# Task 3: Array Indexing\n",
    "# Extract the first five elements of the first row of `reshaped_array` into `first_five_elements`.\n",
    "# Expected output format: first_five_elements should be a 1D array with 5 elements.\n",
    "first_five_elements =reshaped_array[0, :4]\n",
    "print(first_five_elements)"
   ]
  },
  {
   "cell_type": "code",
   "execution_count": null,
   "metadata": {},
   "outputs": [],
   "source": [
    "# Task 4: Element-wise Operations\n",
    "# Create another array `array_b` with the same shape as `reshaped_array`, and perform element-wise addition with `reshaped_array`.\n",
    "# Expected output format: added_arrays should be a 5x4 matrix, element-wise sum of reshaped_array and array_b.\n",
    "array_b = np.ones((5,4), dtype= np.int64)\n",
    "print(array_b)\n",
    "added_arrays = reshaped_array + array_b\n",
    "print(added_arrays)   \n"
   ]
  },
  {
   "cell_type": "code",
   "execution_count": null,
   "metadata": {},
   "outputs": [],
   "source": [
    "\n",
    "# Task 5: Matrix Multiplication\n",
    "# Create two 3x3 matrices `matrix_a` and `matrix_b`. Perform matrix multiplication of `matrix_a` and `matrix_b` to get `matrix_product`.\n",
    "# Expected output format: matrix_product should be a 3x3 matrix.\n",
    "matrix_a =np.ones((3,3), dtype=np.int64) \n",
    "matrix_b =np.zeros((3,3), dtype=np.int64) \n",
    "matrix_product = matrix_a * matrix_b\n",
    "print(matrix_a)\n",
    "print(matrix_b)\n",
    "print(matrix_product)\n"
   ]
  },
  {
   "cell_type": "code",
   "execution_count": null,
   "metadata": {},
   "outputs": [],
   "source": [
    "\n",
    "# Task 6: Broadcasting\n",
    "# Create `array_c` with 4 random integers. Add `array_c` to `reshaped_array` using broadcasting.\n",
    "# Expected output format: broadcasted_array should be a 5x4 matrix.\n",
    "rng=np.random.default_rng()\n",
    "array_c =rng.integers(1, 100, size=4)\n",
    "print(array_c)\n",
    "broadcasted_array = reshaped_array + array_c\n",
    "print(broadcasted_array)\n"
   ]
  },
  {
   "cell_type": "code",
   "execution_count": null,
   "metadata": {},
   "outputs": [],
   "source": [
    "\n",
    "# Task 7: Array Slicing and Stride\n",
    "# Slice `reshaped_array` using a stride to create `sliced_array`, taking every third row and every second column.\n",
    "# Expected output format: sliced_array should have shape (2, 2).\n",
    "sliced_array = reshaped_array[0::3, 0::2]\n",
    "print(sliced_array)\n"
   ]
  },
  {
   "cell_type": "code",
   "execution_count": null,
   "metadata": {},
   "outputs": [],
   "source": [
    "\n",
    "# Task 8: Statistical Computation\n",
    "# Compute the sum, mean, and standard deviation of `reshaped_array` and store them in a dictionary `stats`.\n",
    "# Expected output format: stats should be a dictionary with keys 'sum', 'mean', and 'std'.\n",
    "sum_reshaped_array= np.sum(reshaped_array)\n",
    "mean_reshaped_array= np.mean(reshaped_array)\n",
    "stddev_reshaped_array= np.std(reshaped_array)\n",
    "stats = {\n",
    "    'sum': int(sum_reshaped_array),\n",
    "    'mean': float(mean_reshaped_array),\n",
    "    'std': float(stddev_reshaped_array)\n",
    "}\n",
    "print(stats)\n"
   ]
  },
  {
   "cell_type": "code",
   "execution_count": null,
   "metadata": {},
   "outputs": [],
   "source": [
    "\n",
    "# Task 9: Find the Maximum and Minimum\n",
    "# Find the indices of the maximum and minimum values in `reshaped_array` using np.argmax and np.argmin.\n",
    "# Expected output format: max_index and min_index should be integers.\n",
    "max_array=np.argmax(reshaped_array)\n",
    "min_array=np.argmin(reshaped_array)\n",
    "max_index = np.unravel_index(max_array, reshaped_array.shape)\n",
    "min_index = np.unravel_index(min_array, reshaped_array.shape)\n",
    "print(\"Max index:\" , int(max_index))\n",
    "print(\"Min index:\" , int(min_index))\n"
   ]
  },
  {
   "cell_type": "code",
   "execution_count": null,
   "metadata": {},
   "outputs": [],
   "source": [
    "\n",
    "# Task 10: Advanced Array Manipulation\n",
    "# Create `array_d` with 10 random floating-point numbers and modify it to contain only 0 and 1 based on whether the value is greater than 0.5.\n",
    "# Expected output format: modified_array_d should be a 1D array of integers (0 or 1).\n",
    "array_d = rng.random(10)\n",
    "print(array_d)\n",
    "modified_array_d =(array_d >0.5).astype(int)\n",
    "print(modified_array_d)\n"
   ]
  },
  {
   "cell_type": "markdown",
   "metadata": {},
   "source": [
    "##### Pandas Tasks"
   ]
  },
  {
   "cell_type": "code",
   "execution_count": null,
   "metadata": {},
   "outputs": [],
   "source": [
    "# Task 1: Create a DataFrame\n",
    "# Create a DataFrame `df_a` using `reshaped_array` with column names 'A', 'B', 'C', 'D'.\n",
    "# Expected output format: df_a should be a DataFrame with shape (5, 4).\n",
    "data={\n",
    "\"A\":reshaped_array[:5,0],\n",
    "\"B\":reshaped_array[:5,1],\n",
    "\"C\":reshaped_array[:5,2],\n",
    "\"D\":reshaped_array[:5,3]\n",
    "}\n",
    "df_a =pd.DataFrame(data)\n",
    "print(df_a)\n"
   ]
  },
  {
   "cell_type": "code",
   "execution_count": null,
   "metadata": {},
   "outputs": [],
   "source": [
    "\n",
    "# Task 2: Row Operations\n",
    "# Add a new row `new_row` to `df_a`, containing 4 random integers between 1 and 50.\n",
    "# Expected output format: df_a should have 6 rows after adding `new_row`.\n",
    "new_row= rng.integers(1, 50, size= 4 )\n",
    "df_a.loc[\"new_row\"] = new_row\n",
    "print(df_a)\n"
   ]
  },
  {
   "cell_type": "code",
   "execution_count": null,
   "metadata": {},
   "outputs": [],
   "source": [
    "\n",
    "# Task 3: Column Manipulation\n",
    "# Add a new column 'Sum' to `df_a` that stores the row-wise sum of the columns.\n",
    "# Expected output format: df_a should have a 'Sum' column.\n",
    "df_a['Sum'] = df_a.sum(axis=1)\n",
    "print(df_a)\n",
    "\n"
   ]
  },
  {
   "cell_type": "code",
   "execution_count": null,
   "metadata": {},
   "outputs": [],
   "source": [
    "\n",
    "# Task 4: Accessing Data\n",
    "# Extract the column 'C' from `df_a` and store it in a variable `col_c`.\n",
    "# Expected output format: col_c should be a pandas Series.\n",
    "col_c = df_a['C']\n",
    "print(col_c)\n"
   ]
  },
  {
   "cell_type": "code",
   "execution_count": null,
   "metadata": {},
   "outputs": [],
   "source": [
    "\n",
    "# Task 5: Filtering Data\n",
    "# Filter `df_a` to create a new DataFrame `filtered_df` where column 'A' has values greater than 30.\n",
    "# Expected output format: filtered_df should be a subset of df_a.\n",
    "filtered_df = df_a[df_a['A']> 30] \n",
    "print(filtered_df)\n"
   ]
  },
  {
   "cell_type": "code",
   "execution_count": null,
   "metadata": {},
   "outputs": [],
   "source": [
    "\n",
    "# Task 6: Statistical Operations\n",
    "# Compute the mean and standard deviation of all columns in `df_a` and store them in `mean_values` and `std_values`.\n",
    "# Expected output format: mean_values and std_values should be pandas Series with column names as the index.\n",
    "mean_values =df_a.mean()\n",
    "std_values = df_a.std()\n",
    "print(\"Mean Values: \")\n",
    "print(mean_values)\n",
    "print(\"Std Values: \")\n",
    "print(std_values)\n"
   ]
  },
  {
   "cell_type": "code",
   "execution_count": null,
   "metadata": {},
   "outputs": [],
   "source": [
    "\n",
    "# Task 7: Handling Missing Data\n",
    "# Replace missing values (NaN) in `df_a` with the mean value of the respective columns.\n",
    "# Expected output format: df_a should have no missing values after filling NaN.\n",
    "df_a.iloc[2, 1] = np.nan\n",
    "df_a.iloc[4, 3] = np.nan\n",
    "print(df_a)\n",
    "df_a.fillna(df_a.mean(), inplace=True)\n",
    "print(df_a)\n"
   ]
  },
  {
   "cell_type": "code",
   "execution_count": null,
   "metadata": {},
   "outputs": [],
   "source": [
    "\n",
    "# Task 8: Sorting Data\n",
    "# Sort `df_a` based on column 'A' in descending order and store the result in `df_a_sorted`.\n",
    "# Expected output format: df_a_sorted should be a sorted DataFrame.\n",
    "df_a_sorted = df_a.sort_values(by='A', ascending=False)\n",
    "print(df_a_sorted)"
   ]
  },
  {
   "cell_type": "code",
   "execution_count": null,
   "metadata": {},
   "outputs": [],
   "source": [
    "\n",
    "# Task 9: Grouping Data\n",
    "# Group `df_a` by column 'A' and calculate the sum for each group. Store the result in `grouped_df`.\n",
    "# Expected output format: grouped_df should be a DataFrame with grouped sums.\n",
    "grouped_df = df_a.groupby('A').sum()\n",
    "print(grouped_df)"
   ]
  },
  {
   "cell_type": "code",
   "execution_count": null,
   "metadata": {},
   "outputs": [],
   "source": [
    "\n",
    "# Task 10: Merging DataFrames\n",
    "# Create another DataFrame `df_b` and merge it with `df_a` on column 'A', using an inner join.\n",
    "# Expected output format: merged_df should be a DataFrame containing rows where 'A' exists in both.\n",
    "df_b = pd.DataFrame({\"A\": [1,1,1,1,1]})\n",
    "merged_df = pd.merge(df_a, df_b, on='A', how='inner')\n",
    "print(df_b)\n",
    "print(merged_df)\n",
    "\n"
   ]
  },
  {
   "cell_type": "markdown",
   "metadata": {},
   "source": [
    "#### Matplotlib Tasks"
   ]
  },
  {
   "cell_type": "code",
   "execution_count": null,
   "metadata": {},
   "outputs": [],
   "source": [
    "# Task 1: Basic Plot\n",
    "# Create a simple line plot using `array_a` as the x-values and `added_arrays` as the y-values.\n",
    "flattened_added_arrays= added_arrays.flatten()\n",
    "plt.plot(array_a,flattened_added_arrays)\n",
    "plt.show()\n"
   ]
  },
  {
   "cell_type": "code",
   "execution_count": null,
   "metadata": {},
   "outputs": [],
   "source": [
    "\n",
    "# Task 2: Histogram\n",
    "# Create a histogram for `array_a` with 10 bins and display the plot.\n",
    "plt.hist(array_a, bins=10)\n",
    "plt.show()\n",
    "\n"
   ]
  },
  {
   "cell_type": "code",
   "execution_count": null,
   "metadata": {},
   "outputs": [],
   "source": [
    "# Task 3: Scatter Plot\n",
    "# Create a scatter plot using `array_a` as the x-values and `array_b` as the y-values.\n",
    "plt.scatter(array_a, array_b)\n",
    "plt.show()\n",
    "\n"
   ]
  },
  {
   "cell_type": "code",
   "execution_count": null,
   "metadata": {},
   "outputs": [],
   "source": [
    "# Task 4: Plot with Labels and Title\n",
    "# Create a plot with labeled axes and a title, using `array_a` and `array_b` as the x and y values respectively.\n",
    "plt.plot(array_a, array_b)\n",
    "plt.xlabel(\"X-axis Label\")\n",
    "plt.ylabel(\"Y-axis Label\")\n",
    "plt.title(\"Line Plot of array_a vs. array_b\")\n",
    "plt.show()"
   ]
  },
  {
   "cell_type": "code",
   "execution_count": null,
   "metadata": {},
   "outputs": [],
   "source": []
  },
  {
   "cell_type": "code",
   "execution_count": null,
   "metadata": {},
   "outputs": [],
   "source": []
  },
  {
   "cell_type": "code",
   "execution_count": null,
   "metadata": {},
   "outputs": [],
   "source": []
  },
  {
   "cell_type": "code",
   "execution_count": null,
   "metadata": {},
   "outputs": [],
   "source": []
  },
  {
   "cell_type": "code",
   "execution_count": null,
   "metadata": {},
   "outputs": [],
   "source": []
  },
  {
   "cell_type": "code",
   "execution_count": null,
   "metadata": {},
   "outputs": [],
   "source": []
  },
  {
   "cell_type": "code",
   "execution_count": null,
   "metadata": {},
   "outputs": [],
   "source": []
  },
  {
   "cell_type": "code",
   "execution_count": null,
   "metadata": {},
   "outputs": [],
   "source": []
  },
  {
   "cell_type": "code",
   "execution_count": null,
   "metadata": {},
   "outputs": [],
   "source": []
  }
 ],
 "metadata": {
  "kernelspec": {
   "display_name": "Python 3 (ipykernel)",
   "language": "python",
   "name": "python3"
  },
  "language_info": {
   "codemirror_mode": {
    "name": "ipython",
    "version": 3
   },
   "file_extension": ".py",
   "mimetype": "text/x-python",
   "name": "python",
   "nbconvert_exporter": "python",
   "pygments_lexer": "ipython3",
   "version": "3.13.0"
  }
 },
 "nbformat": 4,
 "nbformat_minor": 4
}
