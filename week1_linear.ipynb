{
 "cells": [
  {
   "cell_type": "markdown",
   "metadata": {},
   "source": [
    "##### Write your code wherever specified and do not change the other code\n"
   ]
  },
  {
   "cell_type": "code",
   "execution_count": 3,
   "metadata": {
    "vscode": {
     "languageId": "plaintext"
    }
   },
   "outputs": [],
   "source": [
    "import numpy as np\n",
    "import pandas as pd\n",
    "import matplotlib.pyplot as plt\n",
    "\n",
    "# Aim is to predict the marks of students of the test data"
   ]
  },
  {
   "cell_type": "code",
   "execution_count": 7,
   "metadata": {
    "vscode": {
     "languageId": "plaintext"
    }
   },
   "outputs": [
    {
     "ename": "IndentationError",
     "evalue": "unindent does not match any outer indentation level (<string>, line 20)",
     "output_type": "error",
     "traceback": [
      "\u001b[1;36m  File \u001b[1;32m<string>:20\u001b[1;36m\u001b[0m\n\u001b[1;33m    return x_train\u001b[0m\n\u001b[1;37m                  ^\u001b[0m\n\u001b[1;31mIndentationError\u001b[0m\u001b[1;31m:\u001b[0m unindent does not match any outer indentation level\n"
     ]
    }
   ],
   "source": [
    "# Use the file namd 'training data' to train the model\n",
    "\n",
    "data = pd.read_excel('Training data.xlsx')\n",
    "x_train = np.array(data.iloc[:,0:8])\n",
    "y_train = np.array(data.iloc[:,8]).reshape(-1,1)\n",
    "\n",
    "# Try plotting y_train with different features\n",
    "# To get an idea whether to add some features or not\n",
    "# Add some features if required in x_train\n",
    "\n",
    "# Also do label encoding for features not represented in numbers\n",
    "# refer the link if not know : https://youtu.be/589nCGeWG1w?si=t2Wa7LgbUOO4RooM\n",
    "\n",
    "def feature_changing(x_train):\n",
    "from sklearn.preprocessing import LabelEncoder\n",
    "    label_encoder = LabelEncoder()\n",
    "    for i in range(x_train.shape[1]):\n",
    "        if isinstance(x_train[:, i][0], str): \n",
    "            x_train[:, i] = label_encoder.fit_transform(x_train[:, i])\n",
    "     return x_train\n",
    "x_train = label_encode_features(x_train)\n",
    "from sklearn.preprocessing import StandardScaler\n",
    "\n",
    "def scale_features(x_train):\n",
    "    scaler = StandardScaler()\n",
    "    x_train = scaler.fit_transform(x_train)\n",
    "    return x_train\n",
    "\n",
    "x_train = scale_features(x_train)\n",
    "from sklearn.preprocessing import PolynomialFeatures\n",
    "\n",
    "def create_polynomial_features(x_train):\n",
    "    poly = PolynomialFeatures(degree=2)  \n",
    "    x_train_poly = poly.fit_transform(x_train)\n",
    "    return x_train_poly\n",
    "\n",
    "x_train = create_polynomial_features(x_train)\n",
    "from sklearn.linear_model import LinearRegression\n",
    "\n",
    "model = LinearRegression()\n",
    "model.fit(x_train, y_train)\n",
    "\n",
    "y_pred = model.predict(x_test)\n"
   ]
  },
  {
   "cell_type": "code",
   "execution_count": 9,
   "metadata": {
    "vscode": {
     "languageId": "plaintext"
    }
   },
   "outputs": [],
   "source": [
    "def z_score(x_train):\n",
    "    x_mean = np.mean(x_train, axis=0) \n",
    "    \n",
    "    x_std = np.std(x_train, axis=0)   \n",
    "    \n",
    "    x_train_scaled = (x_train - x_mean) / x_std\n",
    "    \n",
    "    return x_train_scaled, x_mean, x_std"
   ]
  },
  {
   "cell_type": "code",
   "execution_count": null,
   "metadata": {
    "vscode": {
     "languageId": "plaintext"
    }
   },
   "outputs": [],
   "source": [
    "def cost(x_train,y_train,w,b):\n",
    "    m = len(y_train)\n",
    "    \n",
    "    y_pred = np.dot(x_train, w) + b\n",
    "    \n",
    "    loss = (1 / (2 * m)) * np.sum((y_pred - y_train) ** 2)\n",
    "    \n",
    "    return loss"
   ]
  },
  {
   "cell_type": "code",
   "execution_count": null,
   "metadata": {
    "vscode": {
     "languageId": "plaintext"
    }
   },
   "outputs": [],
   "source": [
    "def gradient_descent(x_train,y_train,w,b):\n",
    "    \n",
    "    m = len(y_train) \n",
    "    \n",
    "    for _ in range(num_iterations):\n",
    "        y_pred = np.dot(x_train, w) + b\n",
    "        \n",
    "        dw = (1 / m) * np.dot(x_train.T, (y_pred - y_train)) \n",
    "        db = (1 / m) * np.sum(y_pred - y_train)  \n",
    "        \n",
    "        w = w - learning_rate * dw\n",
    "        b = b - learning_rate * db\n",
    "    \n",
    "    return w, b"
   ]
  },
  {
   "cell_type": "code",
   "execution_count": null,
   "metadata": {
    "vscode": {
     "languageId": "plaintext"
    }
   },
   "outputs": [],
   "source": [
    "x_train = x_train.astype(np.float64)\n",
    "x_train,x_std,x_mean = z_score(x_train)\n",
    "\n",
    "np.random.seed(2147483647)\n",
    "w = np.random.randn(x_train.shape[1],1)\n",
    "b = np.random.randn(1)\n",
    "\n",
    "old_cost = 0\n",
    "\n",
    "while abs(old_cost - cost(x_train,y_train,w,b))>0.00001:\n",
    "  old_cost = cost(x_train,y_train,w,b)\n",
    "  w,b = gradient_descent(x_train,y_train,w,b)\n",
    "\n",
    "x_predict = pd.read_excel('Test data.xlsx').iloc[:,:8].to_numpy()\n",
    "x_predict = feature_changing(x_predict)\n",
    "x_predict = (x_predict - x_mean)/x_std\n",
    "ans = pd.read_excel('Test data.xlsx').iloc[:,8].to_numpy()\n",
    "\n",
    "y_predict = np.dot(x_predict,w) + b\n",
    "\n",
    "accuracy = 0\n",
    "for dim in range(len(ans)):\n",
    "  if abs(y_predict[dim]-ans[dim])<0.5: # do not change the tolerance as you'll be checked on +- 0.5 error only\n",
    "    accuracy += 1\n",
    "accuracy = round(accuracy*100/200.0,2)\n",
    "ok = 'Congratulations' if accuracy>95 else 'Optimization required'\n",
    "print(f\"{ok}, your accuracy is {accuracy}%\")"
   ]
  }
 ],
 "metadata": {
  "kernelspec": {
   "display_name": "Python 3 (ipykernel)",
   "language": "python",
   "name": "python3"
  },
  "language_info": {
   "codemirror_mode": {
    "name": "ipython",
    "version": 3
   },
   "file_extension": ".py",
   "mimetype": "text/x-python",
   "name": "python",
   "nbconvert_exporter": "python",
   "pygments_lexer": "ipython3",
   "version": "3.13.0"
  }
 },
 "nbformat": 4,
 "nbformat_minor": 4
}
